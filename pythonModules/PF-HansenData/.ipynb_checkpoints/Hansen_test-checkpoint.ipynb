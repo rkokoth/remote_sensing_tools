{
 "cells": [
  {
   "cell_type": "code",
   "execution_count": 7,
   "metadata": {},
   "outputs": [],
   "source": [
    "import getHansenData as hs\n",
    "import mergeRasterio as mr \n"
   ]
  },
  {
   "cell_type": "code",
   "execution_count": 9,
   "metadata": {},
   "outputs": [
    {
     "name": "stdout",
     "output_type": "stream",
     "text": [
      "Reagaing BBOX from a file\n",
      "['https://storage.googleapis.com/earthenginepartners-hansen/GFC-2022-v1.10/Hansen_GFC-2022-v1.10_lossyear_10S_020E.tif', 'https://storage.googleapis.com/earthenginepartners-hansen/GFC-2022-v1.10/Hansen_GFC-2022-v1.10_lossyear_10S_030E.tif', 'https://storage.googleapis.com/earthenginepartners-hansen/GFC-2022-v1.10/Hansen_GFC-2022-v1.10_lossyear_20S_020E.tif', 'https://storage.googleapis.com/earthenginepartners-hansen/GFC-2022-v1.10/Hansen_GFC-2022-v1.10_lossyear_20S_030E.tif']\n",
      "dir /b /s C:\\Users\\ReaganOkoth\\Documents\\pythonModules\\PF-HansenData\\lossyear\\*.tif > C:\\Users\\ReaganOkoth\\Documents\\pythonModules\\PF-HansenData\\lossyear\\list.txt\n"
     ]
    }
   ],
   "source": [
    "test_roi = '../../FS_ZM_001_WV/planet_test/ZambiaPolygon_test.shp'\n",
    "hs.getData(test_roi,'lossyear')\n",
    "#hs.getData(test_roi,'treecover2000')\n",
    "\n",
    "#mr.mosaicRasters('./lossyear')\n",
    "mr.gdal_mosaic('./lossyear')"
   ]
  },
  {
   "cell_type": "code",
   "execution_count": 6,
   "metadata": {},
   "outputs": [
    {
     "name": "stdout",
     "output_type": "stream",
     "text": [
      " Volume in drive C is Windows\n",
      " Volume Serial Number is 5439-8035\n",
      "\n",
      " Directory of C:\\Users\\ReaganOkoth\\Documents\\pythonModules\\PF-HansenData\n",
      "\n",
      "17/01/2024  17:33    <DIR>          .\n",
      "16/01/2024  10:11    <DIR>          ..\n",
      "17/01/2024  17:06    <DIR>          .ipynb_checkpoints\n",
      "17/01/2024  11:42    <DIR>          data\n",
      "17/01/2024  17:15             4,032 getHansenData.py\n",
      "17/01/2024  10:22             2,215 getMultipleTiles.py\n",
      "17/01/2024  17:33             2,694 Hansen_test.ipynb\n",
      "17/01/2024  11:05    <DIR>          hansen_venv\n",
      "17/01/2024  17:17    <DIR>          lossyear\n",
      "17/01/2024  13:22               220 lossyearlist.txt\n",
      "17/01/2024  17:32             2,237 mergeRasterio.py\n",
      "17/01/2024  12:16    <DIR>          output\n",
      "17/01/2024  11:43               226 __init__.py\n",
      "17/01/2024  17:20    <DIR>          __pycache__\n",
      "               6 File(s)         11,624 bytes\n",
      "               8 Dir(s)  283,922,046,976 bytes free\n"
     ]
    }
   ],
   "source": [
    "!dir"
   ]
  },
  {
   "cell_type": "code",
   "execution_count": null,
   "metadata": {},
   "outputs": [],
   "source": []
  }
 ],
 "metadata": {
  "kernelspec": {
   "display_name": "Python 3 (ipykernel)",
   "language": "python",
   "name": "python3"
  },
  "language_info": {
   "codemirror_mode": {
    "name": "ipython",
    "version": 3
   },
   "file_extension": ".py",
   "mimetype": "text/x-python",
   "name": "python",
   "nbconvert_exporter": "python",
   "pygments_lexer": "ipython3",
   "version": "3.11.7"
  }
 },
 "nbformat": 4,
 "nbformat_minor": 4
}
